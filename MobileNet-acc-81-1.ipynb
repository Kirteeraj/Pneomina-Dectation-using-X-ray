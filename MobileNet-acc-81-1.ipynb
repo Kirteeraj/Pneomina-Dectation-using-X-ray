{
  "nbformat": 4,
  "nbformat_minor": 0,
  "metadata": {
    "kernelspec": {
      "display_name": "Python 3",
      "language": "python",
      "name": "python3"
    },
    "language_info": {
      "codemirror_mode": {
        "name": "ipython",
        "version": 3
      },
      "file_extension": ".py",
      "mimetype": "text/x-python",
      "name": "python",
      "nbconvert_exporter": "python",
      "pygments_lexer": "ipython3",
      "version": "3.8.10"
    },
    "colab": {
      "name": "CNN Moldel - Pneomina Dectation from X-ray",
      "provenance": [],
      "collapsed_sections": [],
      "include_colab_link": true
    },
    "accelerator": "GPU"
  },
  "cells": [
    {
      "cell_type": "markdown",
      "metadata": {
        "id": "view-in-github",
        "colab_type": "text"
      },
      "source": [
        "<a href=\"https://colab.research.google.com/github/Kirteeraj/Pneomina-Dectation-using-X-ray/blob/main/MobileNet-acc-81-1.ipynb\" target=\"_parent\"><img src=\"https://colab.research.google.com/assets/colab-badge.svg\" alt=\"Open In Colab\"/></a>"
      ]
    },
    {
      "cell_type": "code",
      "metadata": {
        "id": "UB35u7hx88Sd"
      },
      "source": [
        "! pip install -q kaggle"
      ],
      "execution_count": 9,
      "outputs": []
    },
    {
      "cell_type": "code",
      "metadata": {
        "id": "Gr_j4_iK9F52"
      },
      "source": [
        " ! mkdir ~/.kaggle"
      ],
      "execution_count": 10,
      "outputs": []
    },
    {
      "cell_type": "code",
      "metadata": {
        "id": "OikisXQo9ykr",
        "colab": {
          "resources": {
            "http://localhost:8080/nbextensions/google.colab/files.js": {
              "data": "Ly8gQ29weXJpZ2h0IDIwMTcgR29vZ2xlIExMQwovLwovLyBMaWNlbnNlZCB1bmRlciB0aGUgQXBhY2hlIExpY2Vuc2UsIFZlcnNpb24gMi4wICh0aGUgIkxpY2Vuc2UiKTsKLy8geW91IG1heSBub3QgdXNlIHRoaXMgZmlsZSBleGNlcHQgaW4gY29tcGxpYW5jZSB3aXRoIHRoZSBMaWNlbnNlLgovLyBZb3UgbWF5IG9idGFpbiBhIGNvcHkgb2YgdGhlIExpY2Vuc2UgYXQKLy8KLy8gICAgICBodHRwOi8vd3d3LmFwYWNoZS5vcmcvbGljZW5zZXMvTElDRU5TRS0yLjAKLy8KLy8gVW5sZXNzIHJlcXVpcmVkIGJ5IGFwcGxpY2FibGUgbGF3IG9yIGFncmVlZCB0byBpbiB3cml0aW5nLCBzb2Z0d2FyZQovLyBkaXN0cmlidXRlZCB1bmRlciB0aGUgTGljZW5zZSBpcyBkaXN0cmlidXRlZCBvbiBhbiAiQVMgSVMiIEJBU0lTLAovLyBXSVRIT1VUIFdBUlJBTlRJRVMgT1IgQ09ORElUSU9OUyBPRiBBTlkgS0lORCwgZWl0aGVyIGV4cHJlc3Mgb3IgaW1wbGllZC4KLy8gU2VlIHRoZSBMaWNlbnNlIGZvciB0aGUgc3BlY2lmaWMgbGFuZ3VhZ2UgZ292ZXJuaW5nIHBlcm1pc3Npb25zIGFuZAovLyBsaW1pdGF0aW9ucyB1bmRlciB0aGUgTGljZW5zZS4KCi8qKgogKiBAZmlsZW92ZXJ2aWV3IEhlbHBlcnMgZm9yIGdvb2dsZS5jb2xhYiBQeXRob24gbW9kdWxlLgogKi8KKGZ1bmN0aW9uKHNjb3BlKSB7CmZ1bmN0aW9uIHNwYW4odGV4dCwgc3R5bGVBdHRyaWJ1dGVzID0ge30pIHsKICBjb25zdCBlbGVtZW50ID0gZG9jdW1lbnQuY3JlYXRlRWxlbWVudCgnc3BhbicpOwogIGVsZW1lbnQudGV4dENvbnRlbnQgPSB0ZXh0OwogIGZvciAoY29uc3Qga2V5IG9mIE9iamVjdC5rZXlzKHN0eWxlQXR0cmlidXRlcykpIHsKICAgIGVsZW1lbnQuc3R5bGVba2V5XSA9IHN0eWxlQXR0cmlidXRlc1trZXldOwogIH0KICByZXR1cm4gZWxlbWVudDsKfQoKLy8gTWF4IG51bWJlciBvZiBieXRlcyB3aGljaCB3aWxsIGJlIHVwbG9hZGVkIGF0IGEgdGltZS4KY29uc3QgTUFYX1BBWUxPQURfU0laRSA9IDEwMCAqIDEwMjQ7CgpmdW5jdGlvbiBfdXBsb2FkRmlsZXMoaW5wdXRJZCwgb3V0cHV0SWQpIHsKICBjb25zdCBzdGVwcyA9IHVwbG9hZEZpbGVzU3RlcChpbnB1dElkLCBvdXRwdXRJZCk7CiAgY29uc3Qgb3V0cHV0RWxlbWVudCA9IGRvY3VtZW50LmdldEVsZW1lbnRCeUlkKG91dHB1dElkKTsKICAvLyBDYWNoZSBzdGVwcyBvbiB0aGUgb3V0cHV0RWxlbWVudCB0byBtYWtlIGl0IGF2YWlsYWJsZSBmb3IgdGhlIG5leHQgY2FsbAogIC8vIHRvIHVwbG9hZEZpbGVzQ29udGludWUgZnJvbSBQeXRob24uCiAgb3V0cHV0RWxlbWVudC5zdGVwcyA9IHN0ZXBzOwoKICByZXR1cm4gX3VwbG9hZEZpbGVzQ29udGludWUob3V0cHV0SWQpOwp9CgovLyBUaGlzIGlzIHJvdWdobHkgYW4gYXN5bmMgZ2VuZXJhdG9yIChub3Qgc3VwcG9ydGVkIGluIHRoZSBicm93c2VyIHlldCksCi8vIHdoZXJlIHRoZXJlIGFyZSBtdWx0aXBsZSBhc3luY2hyb25vdXMgc3RlcHMgYW5kIHRoZSBQeXRob24gc2lkZSBpcyBnb2luZwovLyB0byBwb2xsIGZvciBjb21wbGV0aW9uIG9mIGVhY2ggc3RlcC4KLy8gVGhpcyB1c2VzIGEgUHJvbWlzZSB0byBibG9jayB0aGUgcHl0aG9uIHNpZGUgb24gY29tcGxldGlvbiBvZiBlYWNoIHN0ZXAsCi8vIHRoZW4gcGFzc2VzIHRoZSByZXN1bHQgb2YgdGhlIHByZXZpb3VzIHN0ZXAgYXMgdGhlIGlucHV0IHRvIHRoZSBuZXh0IHN0ZXAuCmZ1bmN0aW9uIF91cGxvYWRGaWxlc0NvbnRpbnVlKG91dHB1dElkKSB7CiAgY29uc3Qgb3V0cHV0RWxlbWVudCA9IGRvY3VtZW50LmdldEVsZW1lbnRCeUlkKG91dHB1dElkKTsKICBjb25zdCBzdGVwcyA9IG91dHB1dEVsZW1lbnQuc3RlcHM7CgogIGNvbnN0IG5leHQgPSBzdGVwcy5uZXh0KG91dHB1dEVsZW1lbnQubGFzdFByb21pc2VWYWx1ZSk7CiAgcmV0dXJuIFByb21pc2UucmVzb2x2ZShuZXh0LnZhbHVlLnByb21pc2UpLnRoZW4oKHZhbHVlKSA9PiB7CiAgICAvLyBDYWNoZSB0aGUgbGFzdCBwcm9taXNlIHZhbHVlIHRvIG1ha2UgaXQgYXZhaWxhYmxlIHRvIHRoZSBuZXh0CiAgICAvLyBzdGVwIG9mIHRoZSBnZW5lcmF0b3IuCiAgICBvdXRwdXRFbGVtZW50Lmxhc3RQcm9taXNlVmFsdWUgPSB2YWx1ZTsKICAgIHJldHVybiBuZXh0LnZhbHVlLnJlc3BvbnNlOwogIH0pOwp9CgovKioKICogR2VuZXJhdG9yIGZ1bmN0aW9uIHdoaWNoIGlzIGNhbGxlZCBiZXR3ZWVuIGVhY2ggYXN5bmMgc3RlcCBvZiB0aGUgdXBsb2FkCiAqIHByb2Nlc3MuCiAqIEBwYXJhbSB7c3RyaW5nfSBpbnB1dElkIEVsZW1lbnQgSUQgb2YgdGhlIGlucHV0IGZpbGUgcGlja2VyIGVsZW1lbnQuCiAqIEBwYXJhbSB7c3RyaW5nfSBvdXRwdXRJZCBFbGVtZW50IElEIG9mIHRoZSBvdXRwdXQgZGlzcGxheS4KICogQHJldHVybiB7IUl0ZXJhYmxlPCFPYmplY3Q+fSBJdGVyYWJsZSBvZiBuZXh0IHN0ZXBzLgogKi8KZnVuY3Rpb24qIHVwbG9hZEZpbGVzU3RlcChpbnB1dElkLCBvdXRwdXRJZCkgewogIGNvbnN0IGlucHV0RWxlbWVudCA9IGRvY3VtZW50LmdldEVsZW1lbnRCeUlkKGlucHV0SWQpOwogIGlucHV0RWxlbWVudC5kaXNhYmxlZCA9IGZhbHNlOwoKICBjb25zdCBvdXRwdXRFbGVtZW50ID0gZG9jdW1lbnQuZ2V0RWxlbWVudEJ5SWQob3V0cHV0SWQpOwogIG91dHB1dEVsZW1lbnQuaW5uZXJIVE1MID0gJyc7CgogIGNvbnN0IHBpY2tlZFByb21pc2UgPSBuZXcgUHJvbWlzZSgocmVzb2x2ZSkgPT4gewogICAgaW5wdXRFbGVtZW50LmFkZEV2ZW50TGlzdGVuZXIoJ2NoYW5nZScsIChlKSA9PiB7CiAgICAgIHJlc29sdmUoZS50YXJnZXQuZmlsZXMpOwogICAgfSk7CiAgfSk7CgogIGNvbnN0IGNhbmNlbCA9IGRvY3VtZW50LmNyZWF0ZUVsZW1lbnQoJ2J1dHRvbicpOwogIGlucHV0RWxlbWVudC5wYXJlbnRFbGVtZW50LmFwcGVuZENoaWxkKGNhbmNlbCk7CiAgY2FuY2VsLnRleHRDb250ZW50ID0gJ0NhbmNlbCB1cGxvYWQnOwogIGNvbnN0IGNhbmNlbFByb21pc2UgPSBuZXcgUHJvbWlzZSgocmVzb2x2ZSkgPT4gewogICAgY2FuY2VsLm9uY2xpY2sgPSAoKSA9PiB7CiAgICAgIHJlc29sdmUobnVsbCk7CiAgICB9OwogIH0pOwoKICAvLyBXYWl0IGZvciB0aGUgdXNlciB0byBwaWNrIHRoZSBmaWxlcy4KICBjb25zdCBmaWxlcyA9IHlpZWxkIHsKICAgIHByb21pc2U6IFByb21pc2UucmFjZShbcGlja2VkUHJvbWlzZSwgY2FuY2VsUHJvbWlzZV0pLAogICAgcmVzcG9uc2U6IHsKICAgICAgYWN0aW9uOiAnc3RhcnRpbmcnLAogICAgfQogIH07CgogIGNhbmNlbC5yZW1vdmUoKTsKCiAgLy8gRGlzYWJsZSB0aGUgaW5wdXQgZWxlbWVudCBzaW5jZSBmdXJ0aGVyIHBpY2tzIGFyZSBub3QgYWxsb3dlZC4KICBpbnB1dEVsZW1lbnQuZGlzYWJsZWQgPSB0cnVlOwoKICBpZiAoIWZpbGVzKSB7CiAgICByZXR1cm4gewogICAgICByZXNwb25zZTogewogICAgICAgIGFjdGlvbjogJ2NvbXBsZXRlJywKICAgICAgfQogICAgfTsKICB9CgogIGZvciAoY29uc3QgZmlsZSBvZiBmaWxlcykgewogICAgY29uc3QgbGkgPSBkb2N1bWVudC5jcmVhdGVFbGVtZW50KCdsaScpOwogICAgbGkuYXBwZW5kKHNwYW4oZmlsZS5uYW1lLCB7Zm9udFdlaWdodDogJ2JvbGQnfSkpOwogICAgbGkuYXBwZW5kKHNwYW4oCiAgICAgICAgYCgke2ZpbGUudHlwZSB8fCAnbi9hJ30pIC0gJHtmaWxlLnNpemV9IGJ5dGVzLCBgICsKICAgICAgICBgbGFzdCBtb2RpZmllZDogJHsKICAgICAgICAgICAgZmlsZS5sYXN0TW9kaWZpZWREYXRlID8gZmlsZS5sYXN0TW9kaWZpZWREYXRlLnRvTG9jYWxlRGF0ZVN0cmluZygpIDoKICAgICAgICAgICAgICAgICAgICAgICAgICAgICAgICAgICAgJ24vYSd9IC0gYCkpOwogICAgY29uc3QgcGVyY2VudCA9IHNwYW4oJzAlIGRvbmUnKTsKICAgIGxpLmFwcGVuZENoaWxkKHBlcmNlbnQpOwoKICAgIG91dHB1dEVsZW1lbnQuYXBwZW5kQ2hpbGQobGkpOwoKICAgIGNvbnN0IGZpbGVEYXRhUHJvbWlzZSA9IG5ldyBQcm9taXNlKChyZXNvbHZlKSA9PiB7CiAgICAgIGNvbnN0IHJlYWRlciA9IG5ldyBGaWxlUmVhZGVyKCk7CiAgICAgIHJlYWRlci5vbmxvYWQgPSAoZSkgPT4gewogICAgICAgIHJlc29sdmUoZS50YXJnZXQucmVzdWx0KTsKICAgICAgfTsKICAgICAgcmVhZGVyLnJlYWRBc0FycmF5QnVmZmVyKGZpbGUpOwogICAgfSk7CiAgICAvLyBXYWl0IGZvciB0aGUgZGF0YSB0byBiZSByZWFkeS4KICAgIGxldCBmaWxlRGF0YSA9IHlpZWxkIHsKICAgICAgcHJvbWlzZTogZmlsZURhdGFQcm9taXNlLAogICAgICByZXNwb25zZTogewogICAgICAgIGFjdGlvbjogJ2NvbnRpbnVlJywKICAgICAgfQogICAgfTsKCiAgICAvLyBVc2UgYSBjaHVua2VkIHNlbmRpbmcgdG8gYXZvaWQgbWVzc2FnZSBzaXplIGxpbWl0cy4gU2VlIGIvNjIxMTU2NjAuCiAgICBsZXQgcG9zaXRpb24gPSAwOwogICAgZG8gewogICAgICBjb25zdCBsZW5ndGggPSBNYXRoLm1pbihmaWxlRGF0YS5ieXRlTGVuZ3RoIC0gcG9zaXRpb24sIE1BWF9QQVlMT0FEX1NJWkUpOwogICAgICBjb25zdCBjaHVuayA9IG5ldyBVaW50OEFycmF5KGZpbGVEYXRhLCBwb3NpdGlvbiwgbGVuZ3RoKTsKICAgICAgcG9zaXRpb24gKz0gbGVuZ3RoOwoKICAgICAgY29uc3QgYmFzZTY0ID0gYnRvYShTdHJpbmcuZnJvbUNoYXJDb2RlLmFwcGx5KG51bGwsIGNodW5rKSk7CiAgICAgIHlpZWxkIHsKICAgICAgICByZXNwb25zZTogewogICAgICAgICAgYWN0aW9uOiAnYXBwZW5kJywKICAgICAgICAgIGZpbGU6IGZpbGUubmFtZSwKICAgICAgICAgIGRhdGE6IGJhc2U2NCwKICAgICAgICB9LAogICAgICB9OwoKICAgICAgbGV0IHBlcmNlbnREb25lID0gZmlsZURhdGEuYnl0ZUxlbmd0aCA9PT0gMCA/CiAgICAgICAgICAxMDAgOgogICAgICAgICAgTWF0aC5yb3VuZCgocG9zaXRpb24gLyBmaWxlRGF0YS5ieXRlTGVuZ3RoKSAqIDEwMCk7CiAgICAgIHBlcmNlbnQudGV4dENvbnRlbnQgPSBgJHtwZXJjZW50RG9uZX0lIGRvbmVgOwoKICAgIH0gd2hpbGUgKHBvc2l0aW9uIDwgZmlsZURhdGEuYnl0ZUxlbmd0aCk7CiAgfQoKICAvLyBBbGwgZG9uZS4KICB5aWVsZCB7CiAgICByZXNwb25zZTogewogICAgICBhY3Rpb246ICdjb21wbGV0ZScsCiAgICB9CiAgfTsKfQoKc2NvcGUuZ29vZ2xlID0gc2NvcGUuZ29vZ2xlIHx8IHt9OwpzY29wZS5nb29nbGUuY29sYWIgPSBzY29wZS5nb29nbGUuY29sYWIgfHwge307CnNjb3BlLmdvb2dsZS5jb2xhYi5fZmlsZXMgPSB7CiAgX3VwbG9hZEZpbGVzLAogIF91cGxvYWRGaWxlc0NvbnRpbnVlLAp9Owp9KShzZWxmKTsK",
              "ok": true,
              "headers": [
                [
                  "content-type",
                  "application/javascript"
                ]
              ],
              "status": 200,
              "status_text": ""
            }
          },
          "base_uri": "https://localhost:8080/",
          "height": 74
        },
        "outputId": "8a90e21c-c3ae-4bbf-a54b-90f2b5bb7dc1"
      },
      "source": [
        "from google.colab import files\n",
        "\n",
        "files.upload()"
      ],
      "execution_count": 11,
      "outputs": [
        {
          "output_type": "display_data",
          "data": {
            "text/html": [
              "\n",
              "     <input type=\"file\" id=\"files-62b9daad-4ef7-4a4d-b4cf-10c1a0e5b479\" name=\"files[]\" multiple disabled\n",
              "        style=\"border:none\" />\n",
              "     <output id=\"result-62b9daad-4ef7-4a4d-b4cf-10c1a0e5b479\">\n",
              "      Upload widget is only available when the cell has been executed in the\n",
              "      current browser session. Please rerun this cell to enable.\n",
              "      </output>\n",
              "      <script src=\"/nbextensions/google.colab/files.js\"></script> "
            ],
            "text/plain": [
              "<IPython.core.display.HTML object>"
            ]
          },
          "metadata": {}
        },
        {
          "output_type": "stream",
          "name": "stdout",
          "text": [
            "Saving kaggle.json to kaggle.json\n"
          ]
        },
        {
          "output_type": "execute_result",
          "data": {
            "text/plain": [
              "{'kaggle.json': b'{\"username\":\"kirteeraj\",\"key\":\"ebe4a9e772c807dd21e116caf8edb7e9\"}'}"
            ]
          },
          "metadata": {},
          "execution_count": 11
        }
      ]
    },
    {
      "cell_type": "code",
      "metadata": {
        "id": "XlAWVD60-uz7"
      },
      "source": [
        "! cp kaggle.json ~/.kaggle/"
      ],
      "execution_count": 12,
      "outputs": []
    },
    {
      "cell_type": "code",
      "metadata": {
        "id": "rF7te-fC-4E6"
      },
      "source": [
        " ! chmod 600 ~/.kaggle/kaggle.json"
      ],
      "execution_count": 13,
      "outputs": []
    },
    {
      "cell_type": "code",
      "metadata": {
        "id": "c8K2zi8v-7JA"
      },
      "source": [
        "! kaggle datasets list"
      ],
      "execution_count": null,
      "outputs": []
    },
    {
      "cell_type": "code",
      "metadata": {
        "id": "vB_amkxl-_sO",
        "colab": {
          "base_uri": "https://localhost:8080/"
        },
        "outputId": "3d980de1-7f5c-4ca6-a6d7-6d3187c8ae6e"
      },
      "source": [
        "!kaggle datasets download -d paultimothymooney/chest-xray-pneumonia"
      ],
      "execution_count": 24,
      "outputs": [
        {
          "output_type": "stream",
          "name": "stdout",
          "text": [
            "Downloading chest-xray-pneumonia.zip to /content\n",
            " 99% 2.28G/2.29G [00:40<00:00, 53.8MB/s]\n",
            "100% 2.29G/2.29G [00:40<00:00, 61.0MB/s]\n"
          ]
        }
      ]
    },
    {
      "cell_type": "code",
      "metadata": {
        "id": "PUV7eQ5k_zD6"
      },
      "source": [
        "! unzip chest-xray-pneumonia.zip"
      ],
      "execution_count": null,
      "outputs": []
    },
    {
      "cell_type": "code",
      "metadata": {
        "id": "3CCNSyCYApPd",
        "colab": {
          "base_uri": "https://localhost:8080/"
        },
        "outputId": "52b01ea3-229c-4cf6-9785-11a2de379f35"
      },
      "source": [
        "!pwd"
      ],
      "execution_count": 17,
      "outputs": [
        {
          "output_type": "stream",
          "name": "stdout",
          "text": [
            "/content\n"
          ]
        }
      ]
    },
    {
      "cell_type": "code",
      "metadata": {
        "_cell_guid": "b1076dfc-b9ad-4769-8c92-a6c4dae69d19",
        "_uuid": "8f2839f25d086af736a60e9eeb907d3b93b6e0e5",
        "execution": {
          "iopub.execute_input": "2021-10-24T04:58:45.930249Z",
          "iopub.status.busy": "2021-10-24T04:58:45.929943Z",
          "iopub.status.idle": "2021-10-24T04:58:45.935755Z",
          "shell.execute_reply": "2021-10-24T04:58:45.934711Z",
          "shell.execute_reply.started": "2021-10-24T04:58:45.930219Z"
        },
        "id": "1Yu3Oogt4giS"
      },
      "source": [
        "import tensorflow\n",
        "import pandas as pd\n",
        "import numpy as np\n",
        "import os\n",
        "import keras\n",
        "from tensorflow.keras.applications import DenseNet169, DenseNet121, MobileNet\n",
        "from tensorflow.keras.applications.densenet import preprocess_input\n",
        "from tensorflow.keras.preprocessing import image_dataset_from_directory\n",
        "from keras.preprocessing.image import ImageDataGenerator\n",
        "from tensorflow.keras.layers import Dense, GlobalAveragePooling2D, BatchNormalization, Dropout\n",
        "from tensorflow.keras.models import Model\n",
        "from tensorflow.keras import regularizers\n",
        "\n",
        "import matplotlib.pyplot as plt"
      ],
      "execution_count": 222,
      "outputs": []
    },
    {
      "cell_type": "code",
      "metadata": {
        "id": "eHPhtWfJ4giY"
      },
      "source": [
        "base_model = MobileNet(\n",
        "    include_top=False,\n",
        "    weights=\"imagenet\",\n",
        "    input_shape=(224,224,3)\n",
        ")\n",
        "base_model.summary()"
      ],
      "execution_count": null,
      "outputs": []
    },
    {
      "cell_type": "code",
      "metadata": {
        "id": "E_oRXsA_4gia"
      },
      "source": [
        "training_dir='./chest_xray/train/'\n",
        "validation_dir='./chest_xray/val/'\n",
        "test_dir='./chest_xray/test/'"
      ],
      "execution_count": 224,
      "outputs": []
    },
    {
      "cell_type": "code",
      "metadata": {
        "colab": {
          "base_uri": "https://localhost:8080/"
        },
        "id": "AEOZGcYE4gib",
        "outputId": "949a390c-e697-4e3e-cc2b-3dfcfd5ea494"
      },
      "source": [
        "test_ds = image_dataset_from_directory(\n",
        "    directory=test_dir,\n",
        "    labels='inferred',\n",
        "    label_mode='binary',\n",
        "    batch_size=16,\n",
        "    image_size=(224, 224),\n",
        "    )"
      ],
      "execution_count": 225,
      "outputs": [
        {
          "output_type": "stream",
          "name": "stdout",
          "text": [
            "Found 624 files belonging to 2 classes.\n"
          ]
        }
      ]
    },
    {
      "cell_type": "code",
      "metadata": {
        "colab": {
          "base_uri": "https://localhost:8080/"
        },
        "id": "WiTsxTnw4gid",
        "outputId": "8a299e31-f277-4497-cbfc-20c8489351c8"
      },
      "source": [
        "train_ds = image_dataset_from_directory(\n",
        "    directory=training_dir,\n",
        "    shuffle=True,\n",
        "    labels='inferred',\n",
        "    label_mode='binary',\n",
        "    batch_size=16,\n",
        "    image_size=(224, 224),\n",
        "    )"
      ],
      "execution_count": 226,
      "outputs": [
        {
          "output_type": "stream",
          "name": "stdout",
          "text": [
            "Found 5216 files belonging to 2 classes.\n"
          ]
        }
      ]
    },
    {
      "cell_type": "code",
      "metadata": {
        "colab": {
          "base_uri": "https://localhost:8080/"
        },
        "id": "j44JdVtI4gie",
        "outputId": "3946f968-dec2-441f-8f05-c9f31d0173ae"
      },
      "source": [
        "validation_ds = image_dataset_from_directory(\n",
        "    directory=validation_dir,\n",
        "    labels='inferred',\n",
        "    label_mode='binary',\n",
        "    batch_size=16,\n",
        "    image_size=(224, 224),\n",
        "    )"
      ],
      "execution_count": 227,
      "outputs": [
        {
          "output_type": "stream",
          "name": "stdout",
          "text": [
            "Found 16 files belonging to 2 classes.\n"
          ]
        }
      ]
    },
    {
      "cell_type": "code",
      "metadata": {
        "id": "YTfI_zY42dYP"
      },
      "source": [
        "data_augmentation = tensorflow.keras.Sequential([\n",
        "  tensorflow.keras.layers.experimental.preprocessing.RandomFlip('horizontal'),\n",
        "  tensorflow.keras.layers.experimental.preprocessing.RandomRotation(0.1),\n",
        "])"
      ],
      "execution_count": 228,
      "outputs": []
    },
    {
      "cell_type": "code",
      "metadata": {
        "colab": {
          "base_uri": "https://localhost:8080/"
        },
        "id": "lFcTR6_W4gif",
        "outputId": "e36b7ec4-2dd5-4b0e-ec78-79172ae56910"
      },
      "source": [
        "test_ds"
      ],
      "execution_count": 229,
      "outputs": [
        {
          "output_type": "execute_result",
          "data": {
            "text/plain": [
              "<BatchDataset shapes: ((None, 224, 224, 3), (None, 1)), types: (tf.float32, tf.float32)>"
            ]
          },
          "metadata": {},
          "execution_count": 229
        }
      ]
    },
    {
      "cell_type": "code",
      "metadata": {
        "id": "bxoc-2fT4gih"
      },
      "source": [
        "x=base_model.output\n",
        "\n",
        "x= data_augmentation(x)\n",
        "x= GlobalAveragePooling2D()(x)\n",
        "x= BatchNormalization()(x)\n",
        "x= Dropout(0.6)(x)\n",
        "# x= Dense(1024,activation='relu')(x) \n",
        "x= Dense(512,kernel_regularizer=regularizers.l2(0.0001), activation='relu')(x) \n",
        "x= BatchNormalization()(x)\n",
        "x= Dropout(0.6)(x)\n",
        "\n",
        "preds=Dense(2,activation='softmax')(x)"
      ],
      "execution_count": 230,
      "outputs": []
    },
    {
      "cell_type": "code",
      "metadata": {
        "id": "NvP7xduG4gii"
      },
      "source": [
        "model=Model(inputs=base_model.input,outputs=preds)\n",
        "model.summary()"
      ],
      "execution_count": null,
      "outputs": []
    },
    {
      "cell_type": "code",
      "metadata": {
        "id": "OlKiqzkH4gik"
      },
      "source": [
        "# for layer in model.layers[:-8]:\n",
        "#     layer.trainable=False\n",
        "\n",
        "# for layer in model.layers[-8:]:\n",
        "#     layer.trainable=True"
      ],
      "execution_count": 232,
      "outputs": []
    },
    {
      "cell_type": "code",
      "metadata": {
        "id": "w87M9KQ5kMp-"
      },
      "source": [
        "base_model.trainable = False"
      ],
      "execution_count": 233,
      "outputs": []
    },
    {
      "cell_type": "code",
      "metadata": {
        "id": "xlaQOZW1kUFH"
      },
      "source": [
        "model.compile(optimizer=tensorflow.keras.optimizers.Adam(learning_rate=1e-4),loss='sparse_categorical_crossentropy',metrics=['accuracy'])\n"
      ],
      "execution_count": 234,
      "outputs": []
    },
    {
      "cell_type": "code",
      "metadata": {
        "colab": {
          "base_uri": "https://localhost:8080/"
        },
        "id": "xlq7YQ6pGIbx",
        "outputId": "f7c5f81a-3ce1-4881-af52-24c32794558e"
      },
      "source": [
        "len(model.trainable_variables)"
      ],
      "execution_count": 235,
      "outputs": [
        {
          "output_type": "execute_result",
          "data": {
            "text/plain": [
              "8"
            ]
          },
          "metadata": {},
          "execution_count": 235
        }
      ]
    },
    {
      "cell_type": "code",
      "metadata": {
        "id": "N_AZtVTQRmk0"
      },
      "source": [
        "initial_epochs = 20"
      ],
      "execution_count": 236,
      "outputs": []
    },
    {
      "cell_type": "code",
      "metadata": {
        "id": "5lybWMXwkUwH",
        "colab": {
          "base_uri": "https://localhost:8080/"
        },
        "outputId": "b4e3afd2-bcd5-4342-b0f5-29bcf2a27319"
      },
      "source": [
        "history=model.fit(x=train_ds,\n",
        "                           validation_data=validation_ds,\n",
        "                           epochs=initial_epochs,\n",
        "                           verbose=1)"
      ],
      "execution_count": 237,
      "outputs": [
        {
          "output_type": "stream",
          "name": "stdout",
          "text": [
            "Epoch 1/20\n",
            "326/326 [==============================] - 37s 102ms/step - loss: 0.8085 - accuracy: 0.7544 - val_loss: 0.4274 - val_accuracy: 0.8125\n",
            "Epoch 2/20\n",
            "326/326 [==============================] - 32s 97ms/step - loss: 0.5433 - accuracy: 0.8357 - val_loss: 0.4465 - val_accuracy: 0.8750\n",
            "Epoch 3/20\n",
            "326/326 [==============================] - 33s 99ms/step - loss: 0.4545 - accuracy: 0.8646 - val_loss: 0.5166 - val_accuracy: 0.8750\n",
            "Epoch 4/20\n",
            "326/326 [==============================] - 33s 99ms/step - loss: 0.3847 - accuracy: 0.8850 - val_loss: 0.5105 - val_accuracy: 0.8125\n",
            "Epoch 5/20\n",
            "326/326 [==============================] - 33s 98ms/step - loss: 0.3864 - accuracy: 0.8890 - val_loss: 0.5362 - val_accuracy: 0.8125\n",
            "Epoch 6/20\n",
            "326/326 [==============================] - 32s 97ms/step - loss: 0.3634 - accuracy: 0.8932 - val_loss: 0.5706 - val_accuracy: 0.7500\n",
            "Epoch 7/20\n",
            "326/326 [==============================] - 33s 99ms/step - loss: 0.3291 - accuracy: 0.9086 - val_loss: 0.6119 - val_accuracy: 0.7500\n",
            "Epoch 8/20\n",
            "326/326 [==============================] - 33s 98ms/step - loss: 0.3089 - accuracy: 0.9166 - val_loss: 0.7268 - val_accuracy: 0.7500\n",
            "Epoch 9/20\n",
            "326/326 [==============================] - 32s 97ms/step - loss: 0.3027 - accuracy: 0.9118 - val_loss: 0.6980 - val_accuracy: 0.7500\n",
            "Epoch 10/20\n",
            "326/326 [==============================] - 33s 98ms/step - loss: 0.3042 - accuracy: 0.9174 - val_loss: 0.6339 - val_accuracy: 0.7500\n",
            "Epoch 11/20\n",
            "326/326 [==============================] - 33s 98ms/step - loss: 0.2971 - accuracy: 0.9164 - val_loss: 0.6765 - val_accuracy: 0.7500\n",
            "Epoch 12/20\n",
            "326/326 [==============================] - 33s 99ms/step - loss: 0.2836 - accuracy: 0.9201 - val_loss: 0.6821 - val_accuracy: 0.7500\n",
            "Epoch 13/20\n",
            "326/326 [==============================] - 32s 97ms/step - loss: 0.2807 - accuracy: 0.9179 - val_loss: 0.6776 - val_accuracy: 0.7500\n",
            "Epoch 14/20\n",
            "326/326 [==============================] - 32s 97ms/step - loss: 0.2868 - accuracy: 0.9172 - val_loss: 0.6946 - val_accuracy: 0.7500\n",
            "Epoch 15/20\n",
            "326/326 [==============================] - 32s 97ms/step - loss: 0.2711 - accuracy: 0.9262 - val_loss: 0.6252 - val_accuracy: 0.7500\n",
            "Epoch 16/20\n",
            "326/326 [==============================] - 33s 98ms/step - loss: 0.2622 - accuracy: 0.9258 - val_loss: 0.6260 - val_accuracy: 0.7500\n",
            "Epoch 17/20\n",
            "326/326 [==============================] - 32s 97ms/step - loss: 0.2726 - accuracy: 0.9178 - val_loss: 0.6569 - val_accuracy: 0.7500\n",
            "Epoch 18/20\n",
            "326/326 [==============================] - 32s 96ms/step - loss: 0.2640 - accuracy: 0.9233 - val_loss: 0.5993 - val_accuracy: 0.7500\n",
            "Epoch 19/20\n",
            "326/326 [==============================] - 33s 98ms/step - loss: 0.2681 - accuracy: 0.9191 - val_loss: 0.6719 - val_accuracy: 0.7500\n",
            "Epoch 20/20\n",
            "326/326 [==============================] - 33s 99ms/step - loss: 0.2500 - accuracy: 0.9270 - val_loss: 0.5702 - val_accuracy: 0.7500\n"
          ]
        }
      ]
    },
    {
      "cell_type": "code",
      "metadata": {
        "id": "EDzgDRh5rxQB",
        "colab": {
          "base_uri": "https://localhost:8080/"
        },
        "outputId": "ca69c560-bebb-43fa-d313-3aedca253952"
      },
      "source": [
        "score = model.evaluate(test_ds, verbose = 1) "
      ],
      "execution_count": 238,
      "outputs": [
        {
          "output_type": "stream",
          "name": "stdout",
          "text": [
            "39/39 [==============================] - 4s 75ms/step - loss: 0.5509 - accuracy: 0.7917\n"
          ]
        }
      ]
    },
    {
      "cell_type": "code",
      "metadata": {
        "colab": {
          "base_uri": "https://localhost:8080/",
          "height": 513
        },
        "id": "HL_iR2ZTCYVF",
        "outputId": "9ffb28b4-1550-40a5-c075-f9bfa81aec78"
      },
      "source": [
        "acc = history.history['accuracy']\n",
        "val_acc = history.history['val_accuracy']\n",
        "\n",
        "loss = history.history['loss']\n",
        "val_loss = history.history['val_loss']\n",
        "\n",
        "plt.figure(figsize=(8, 8))\n",
        "plt.subplot(2, 1, 1)\n",
        "plt.plot(acc, label='Training Accuracy')\n",
        "plt.plot(val_acc, label='Validation Accuracy')\n",
        "plt.legend(loc='lower right')\n",
        "plt.ylabel('Accuracy')\n",
        "plt.ylim([min(plt.ylim()),1])\n",
        "plt.title('Training and Validation Accuracy')\n",
        "\n",
        "plt.subplot(2, 1, 2)\n",
        "plt.plot(loss, label='Training Loss')\n",
        "plt.plot(val_loss, label='Validation Loss')\n",
        "plt.legend(loc='upper right')\n",
        "plt.ylabel('Cross Entropy')\n",
        "plt.ylim([0,1.0])\n",
        "plt.title('Training and Validation Loss')\n",
        "plt.xlabel('epoch')\n",
        "plt.show()"
      ],
      "execution_count": 239,
      "outputs": [
        {
          "output_type": "display_data",
          "data": {
            "image/png": "[encoded data removed]",
            "text/plain": [
              "<Figure size 576x576 with 2 Axes>"
            ]
          },
          "metadata": {
            "needs_background": "light"
          }
        }
      ]
    },
    {
      "cell_type": "code",
      "metadata": {
        "id": "HDuYc0vEQlOv"
      },
      "source": [
        "base_model.trainable = True"
      ],
      "execution_count": 240,
      "outputs": []
    },
    {
      "cell_type": "code",
      "metadata": {
        "colab": {
          "base_uri": "https://localhost:8080/"
        },
        "id": "IZEx-IiYQut2",
        "outputId": "3bd10320-0d11-431a-d0e9-e17fef456ee5"
      },
      "source": [
        "# Let's take a look to see how many layers are in the base model\n",
        "print(\"Number of layers in the base model: \", len(base_model.layers))\n",
        "\n",
        "# Fine-tune from this layer onwards\n",
        "fine_tune_at = 42\n",
        "\n",
        "# Freeze all the layers before the `fine_tune_at` layer\n",
        "for layer in base_model.layers[:fine_tune_at]:\n",
        "  layer.trainable =  False"
      ],
      "execution_count": 241,
      "outputs": [
        {
          "output_type": "stream",
          "name": "stdout",
          "text": [
            "Number of layers in the base model:  86\n"
          ]
        }
      ]
    },
    {
      "cell_type": "code",
      "metadata": {
        "id": "zk7_RnykQ2zn"
      },
      "source": [
        "model.compile(optimizer=tensorflow.keras.optimizers.Adam(learning_rate=1e-5),loss='sparse_categorical_crossentropy',metrics=['accuracy'])"
      ],
      "execution_count": 242,
      "outputs": []
    },
    {
      "cell_type": "code",
      "metadata": {
        "colab": {
          "base_uri": "https://localhost:8080/"
        },
        "id": "RljlnHLYRMlt",
        "outputId": "587ecf00-9f22-4f83-bac1-5f9679a313f0"
      },
      "source": [
        "len(model.trainable_variables)"
      ],
      "execution_count": 243,
      "outputs": [
        {
          "output_type": "execute_result",
          "data": {
            "text/plain": [
              "50"
            ]
          },
          "metadata": {},
          "execution_count": 243
        }
      ]
    },
    {
      "cell_type": "code",
      "metadata": {
        "colab": {
          "base_uri": "https://localhost:8080/"
        },
        "id": "O2Ee-hy3RWmM",
        "outputId": "cc1817e8-d29c-4348-eca5-969dc1eb43b9"
      },
      "source": [
        "fine_tune_epochs = 20\n",
        "total_epochs =  initial_epochs + fine_tune_epochs\n",
        "\n",
        "history_fine = model.fit(train_ds,\n",
        "                         epochs=total_epochs,\n",
        "                         initial_epoch=history.epoch[-1],\n",
        "                         validation_data=validation_ds)"
      ],
      "execution_count": 244,
      "outputs": [
        {
          "output_type": "stream",
          "name": "stdout",
          "text": [
            "Epoch 20/40\n",
            "326/326 [==============================] - 41s 111ms/step - loss: 0.4003 - accuracy: 0.8783 - val_loss: 0.5091 - val_accuracy: 0.8750\n",
            "Epoch 21/40\n",
            "326/326 [==============================] - 36s 109ms/step - loss: 0.2842 - accuracy: 0.9141 - val_loss: 0.3763 - val_accuracy: 0.8750\n",
            "Epoch 22/40\n",
            "326/326 [==============================] - 36s 109ms/step - loss: 0.2574 - accuracy: 0.9350 - val_loss: 0.3478 - val_accuracy: 0.8750\n",
            "Epoch 23/40\n",
            "326/326 [==============================] - 36s 109ms/step - loss: 0.2290 - accuracy: 0.9406 - val_loss: 0.2838 - val_accuracy: 0.9375\n",
            "Epoch 24/40\n",
            "326/326 [==============================] - 36s 109ms/step - loss: 0.2045 - accuracy: 0.9490 - val_loss: 0.2593 - val_accuracy: 0.8750\n",
            "Epoch 25/40\n",
            "326/326 [==============================] - 36s 109ms/step - loss: 0.1816 - accuracy: 0.9582 - val_loss: 0.2765 - val_accuracy: 0.8750\n",
            "Epoch 26/40\n",
            "326/326 [==============================] - 36s 110ms/step - loss: 0.1746 - accuracy: 0.9613 - val_loss: 0.2332 - val_accuracy: 0.9375\n",
            "Epoch 27/40\n",
            "326/326 [==============================] - 36s 110ms/step - loss: 0.1698 - accuracy: 0.9628 - val_loss: 0.2205 - val_accuracy: 0.8750\n",
            "Epoch 28/40\n",
            "326/326 [==============================] - 37s 110ms/step - loss: 0.1601 - accuracy: 0.9632 - val_loss: 0.2504 - val_accuracy: 0.9375\n",
            "Epoch 29/40\n",
            "326/326 [==============================] - 37s 110ms/step - loss: 0.1429 - accuracy: 0.9726 - val_loss: 0.2263 - val_accuracy: 0.9375\n",
            "Epoch 30/40\n",
            "326/326 [==============================] - 37s 110ms/step - loss: 0.1476 - accuracy: 0.9688 - val_loss: 0.1911 - val_accuracy: 0.9375\n",
            "Epoch 31/40\n",
            "326/326 [==============================] - 37s 110ms/step - loss: 0.1406 - accuracy: 0.9735 - val_loss: 0.1927 - val_accuracy: 0.9375\n",
            "Epoch 32/40\n",
            "326/326 [==============================] - 36s 110ms/step - loss: 0.1343 - accuracy: 0.9749 - val_loss: 0.1684 - val_accuracy: 0.9375\n",
            "Epoch 33/40\n",
            "326/326 [==============================] - 37s 110ms/step - loss: 0.1350 - accuracy: 0.9762 - val_loss: 0.1552 - val_accuracy: 0.9375\n",
            "Epoch 34/40\n",
            "326/326 [==============================] - 37s 111ms/step - loss: 0.1153 - accuracy: 0.9837 - val_loss: 0.1572 - val_accuracy: 0.9375\n",
            "Epoch 35/40\n",
            "326/326 [==============================] - 37s 110ms/step - loss: 0.1256 - accuracy: 0.9801 - val_loss: 0.1854 - val_accuracy: 0.9375\n",
            "Epoch 36/40\n",
            "326/326 [==============================] - 37s 112ms/step - loss: 0.1215 - accuracy: 0.9810 - val_loss: 0.1480 - val_accuracy: 1.0000\n",
            "Epoch 37/40\n",
            "326/326 [==============================] - 37s 112ms/step - loss: 0.1182 - accuracy: 0.9793 - val_loss: 0.2041 - val_accuracy: 0.9375\n",
            "Epoch 38/40\n",
            "326/326 [==============================] - 37s 111ms/step - loss: 0.1055 - accuracy: 0.9849 - val_loss: 0.1917 - val_accuracy: 0.9375\n",
            "Epoch 39/40\n",
            "326/326 [==============================] - 37s 111ms/step - loss: 0.1078 - accuracy: 0.9849 - val_loss: 0.1539 - val_accuracy: 0.9375\n",
            "Epoch 40/40\n",
            "326/326 [==============================] - 37s 112ms/step - loss: 0.1043 - accuracy: 0.9860 - val_loss: 0.1728 - val_accuracy: 0.9375\n"
          ]
        }
      ]
    },
    {
      "cell_type": "code",
      "metadata": {
        "colab": {
          "base_uri": "https://localhost:8080/"
        },
        "id": "aZnk2onVT5TF",
        "outputId": "35c66abe-3ba2-4e83-d15b-a6509bcf70ae"
      },
      "source": [
        "score = model.evaluate(test_ds, verbose = 1) "
      ],
      "execution_count": 249,
      "outputs": [
        {
          "output_type": "stream",
          "name": "stdout",
          "text": [
            "39/39 [==============================] - 4s 80ms/step - loss: 0.8663 - accuracy: 0.8109\n"
          ]
        }
      ]
    },
    {
      "cell_type": "code",
      "metadata": {
        "id": "zFh7rE51UKyM"
      },
      "source": [
        "acc += history_fine.history['accuracy']\n",
        "val_acc += history_fine.history['val_accuracy']\n",
        "\n",
        "loss += history_fine.history['loss']\n",
        "val_loss += history_fine.history['val_loss']"
      ],
      "execution_count": 246,
      "outputs": []
    },
    {
      "cell_type": "code",
      "metadata": {
        "colab": {
          "base_uri": "https://localhost:8080/",
          "height": 513
        },
        "id": "xRFh6ft5UTKl",
        "outputId": "24d3c794-4453-42dd-f398-c8263f6aced0"
      },
      "source": [
        "plt.figure(figsize=(8, 8))\n",
        "plt.subplot(2, 1, 1)\n",
        "plt.plot(acc, label='Training Accuracy')\n",
        "plt.plot(val_acc, label='Validation Accuracy')\n",
        "plt.ylim([0.8, 1])\n",
        "plt.plot([initial_epochs-1,initial_epochs-1],\n",
        "          plt.ylim(), label='Start Fine Tuning')\n",
        "plt.legend(loc='lower right')\n",
        "plt.title('Training and Validation Accuracy')\n",
        "\n",
        "plt.subplot(2, 1, 2)\n",
        "plt.plot(loss, label='Training Loss')\n",
        "plt.plot(val_loss, label='Validation Loss')\n",
        "plt.ylim([0, 1.0])\n",
        "plt.plot([initial_epochs-1,initial_epochs-1],\n",
        "         plt.ylim(), label='Start Fine Tuning')\n",
        "plt.legend(loc='upper right')\n",
        "plt.title('Training and Validation Loss')\n",
        "plt.xlabel('epoch')\n",
        "plt.show()"
      ],
      "execution_count": 247,
      "outputs": [
        {
          "output_type": "display_data",
          "data": {
            "image/png": "[encoded data removed]",
            "text/plain": [
              "<Figure size 576x576 with 2 Axes>"
            ]
          },
          "metadata": {
            "needs_background": "light"
          }
        }
      ]
    },
    {
      "cell_type": "code",
      "metadata": {
        "colab": {
          "base_uri": "https://localhost:8080/"
        },
        "id": "rl9C5_dWVN4y",
        "outputId": "0468b65d-0d38-41f4-9651-aff3d988df0e"
      },
      "source": [
        "model.save('/')"
      ],
      "execution_count": 248,
      "outputs": [
        {
          "output_type": "stream",
          "name": "stdout",
          "text": [
            "INFO:tensorflow:Assets written to: /assets\n"
          ]
        }
      ]
    }
  ]
}